{
 "cells": [
  {
   "cell_type": "code",
   "execution_count": 2,
   "metadata": {},
   "outputs": [],
   "source": [
    "import pandas as pd\n",
    "import numpy as np\n",
    "from PIL import Image\n",
    "import os\n",
    "from sklearn.preprocessing import LabelEncoder\n",
    "import tensorflow as tf\n",
    "from tensorflow import keras\n",
    "import matplotlib.pyplot as plt"
   ]
  },
  {
   "cell_type": "code",
   "execution_count": 3,
   "metadata": {},
   "outputs": [],
   "source": [
    "dir_path=\"./train/\""
   ]
  },
  {
   "cell_type": "code",
   "execution_count": 32,
   "metadata": {},
   "outputs": [
    {
     "name": "stdout",
     "output_type": "stream",
     "text": [
      "Liczba marek:  81264\n",
      "Liczba zdjęć:  81262\n"
     ]
    }
   ],
   "source": [
    "data = {\n",
    "    \"auto\":[],\n",
    "    \"photos\":[]\n",
    "}\n",
    "for brand in os.listdir(dir_path):\n",
    "    brand_path = os.path.join(dir_path, brand)\n",
    "    if os.path.isdir(brand_path):\n",
    "        counter = 0\n",
    "        for image in os.listdir(brand_path):\n",
    "            image_path = os.path.join(brand_path, image)\n",
    "            # Zamieniamy kolejność sprawdzania warunków i ignorujemy pliki .DS_Store\n",
    "            if os.path.splitext(image_path)[1].lower() in image_extensions and os.path.isfile(image_path) and not image.startswith('.'):\n",
    "                data['auto'].append(brand)\n",
    "                data['photos'].append(image_path)\n",
    "                counter += 1\n",
    "            else:\n",
    "                print(f\"Problem z plikiem: {image_path}\")\n",
    "\n",
    "        # Sprawdź, czy dla danej marki dodano przynajmniej jedno zdjęcie\n",
    "        if counter == 0:\n",
    "            print(f\"Nie znaleziono zdjęć dla marki {brand}\")\n",
    "\n",
    "print(\"Liczba marek: \", len(data['auto']))\n",
    "print(\"Liczba zdjęć: \", len(data['photos']))"
   ]
  },
  {
   "cell_type": "code",
   "execution_count": null,
   "metadata": {},
   "outputs": [],
   "source": []
  }
 ],
 "metadata": {
  "kernelspec": {
   "display_name": "Python 3",
   "language": "python",
   "name": "python3"
  },
  "language_info": {
   "codemirror_mode": {
    "name": "ipython",
    "version": 3
   },
   "file_extension": ".py",
   "mimetype": "text/x-python",
   "name": "python",
   "nbconvert_exporter": "python",
   "pygments_lexer": "ipython3",
   "version": "3.11.4"
  },
  "orig_nbformat": 4
 },
 "nbformat": 4,
 "nbformat_minor": 2
}
