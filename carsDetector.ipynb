{
 "cells": [
  {
   "cell_type": "code",
   "execution_count": 36,
   "metadata": {},
   "outputs": [],
   "source": [
    "import pandas as pd\n",
    "import numpy as np\n",
    "from PIL import Image\n",
    "import os\n",
    "from sklearn.preprocessing import LabelEncoder\n",
    "import tensorflow as tf\n",
    "from tensorflow import keras\n",
    "import matplotlib.pyplot as plt"
   ]
  },
  {
   "cell_type": "code",
   "execution_count": 37,
   "metadata": {},
   "outputs": [],
   "source": [
    "dir_path=\"./train/\""
   ]
  },
  {
   "cell_type": "code",
   "execution_count": 50,
   "metadata": {},
   "outputs": [],
   "source": [
    "data = {\n",
    "    \"auto\":[],\n",
    "    \"photos\":[]\n",
    "}\n",
    "for brand in os.listdir(dir_path):\n",
    "    brand_path = os.path.join(dir_path, brand)\n",
    "    for image in os.listdir(brand_path):\n",
    "        image_path = os.path.join(brand_path, image)\n",
    "        data['auto'].append(brand)\n",
    "        data['photos'].append(image_path)\n",
    "df = pd.DataFrame(data)"
   ]
  },
  {
   "cell_type": "code",
   "execution_count": 47,
   "metadata": {},
   "outputs": [
    {
     "name": "stdout",
     "output_type": "stream",
     "text": [
      "<PIL.JpegImagePlugin.JpegImageFile image mode=RGB size=300x168 at 0x195F246FFD0>\n"
     ]
    },
    {
     "data": {
      "text/plain": [
       "array([[0.19215687, 0.20784314, 0.22745098, ..., 0.9843137 , 0.9882353 ,\n",
       "        0.9843137 ],\n",
       "       [0.15686275, 0.17254902, 0.19215687, ..., 0.99215686, 0.9843137 ,\n",
       "        0.9843137 ],\n",
       "       [0.14901961, 0.17254902, 0.19607843, ..., 0.99215686, 0.9843137 ,\n",
       "        0.9843137 ],\n",
       "       ...,\n",
       "       [0.5137255 , 0.5137255 , 0.5137255 , ..., 0.41568628, 0.41960785,\n",
       "        0.41568628],\n",
       "       [0.5176471 , 0.5176471 , 0.5176471 , ..., 0.4117647 , 0.4117647 ,\n",
       "        0.4117647 ],\n",
       "       [0.52156866, 0.52156866, 0.52156866, ..., 0.40784314, 0.40784314,\n",
       "        0.4117647 ]], dtype=float32)"
      ]
     },
     "execution_count": 47,
     "metadata": {},
     "output_type": "execute_result"
    }
   ],
   "source": [
    "def load_and_process_image(image_path):\n",
    "    img = Image.open(image_path)\n",
    "    img = img.convert('L')  # Convert image to grayscale\n",
    "    img = img.resize((128, 128))\n",
    "    img_array = np.array(img, dtype=np.float32) / 255.0 \n",
    "    return img_array\n",
    "load_and_process_image(\"./train/Audi/1.jpg\")"
   ]
  },
  {
   "cell_type": "code",
   "execution_count": 40,
   "metadata": {},
   "outputs": [],
   "source": [
    "images = [load_and_process_image(image_path) for image_path in df['photos'][:20000]]"
   ]
  },
  {
   "cell_type": "code",
   "execution_count": 41,
   "metadata": {},
   "outputs": [],
   "source": [
    "encoder = LabelEncoder()\n",
    "labels = encoder.fit_transform(data['auto'][:20000])"
   ]
  },
  {
   "cell_type": "code",
   "execution_count": 42,
   "metadata": {},
   "outputs": [],
   "source": [
    "model = keras.models.Sequential()\n",
    "model.add(keras.layers.Flatten(input_shape=(128, 128, 1))) \n",
    "model.add(keras.layers.Dense(300, activation=\"relu\"))\n",
    "model.add(keras.layers.Dense(100, activation=\"relu\"))\n",
    "model.add(keras.layers.Dense(len(set(labels)), activation=\"softmax\"))\n",
    "\n",
    "model.compile(loss=\"sparse_categorical_crossentropy\", optimizer=\"adam\", metrics=[\"accuracy\"])"
   ]
  },
  {
   "cell_type": "code",
   "execution_count": 43,
   "metadata": {},
   "outputs": [],
   "source": [
    "weights,biases = model.layers[1].get_weights()"
   ]
  },
  {
   "cell_type": "code",
   "execution_count": 44,
   "metadata": {},
   "outputs": [
    {
     "name": "stdout",
     "output_type": "stream",
     "text": [
      "Epoch 1/80\n",
      "105/105 [==============================] - 6s 51ms/step - loss: 2.8321 - accuracy: 0.2267\n",
      "Epoch 2/80\n",
      "105/105 [==============================] - 5s 50ms/step - loss: 1.9148 - accuracy: 0.3031\n",
      "Epoch 3/80\n",
      "105/105 [==============================] - 5s 51ms/step - loss: 1.7376 - accuracy: 0.3529\n",
      "Epoch 4/80\n",
      "105/105 [==============================] - 5s 50ms/step - loss: 1.6823 - accuracy: 0.3675\n",
      "Epoch 5/80\n",
      "105/105 [==============================] - 5s 51ms/step - loss: 1.6753 - accuracy: 0.3747\n",
      "Epoch 6/80\n",
      "105/105 [==============================] - 5s 50ms/step - loss: 1.6206 - accuracy: 0.3980\n",
      "Epoch 7/80\n",
      "105/105 [==============================] - 5s 52ms/step - loss: 1.4974 - accuracy: 0.4567\n",
      "Epoch 8/80\n",
      "105/105 [==============================] - 5s 51ms/step - loss: 1.4755 - accuracy: 0.4681\n",
      "Epoch 9/80\n",
      "105/105 [==============================] - 5s 50ms/step - loss: 1.4727 - accuracy: 0.4740\n",
      "Epoch 10/80\n",
      "105/105 [==============================] - 6s 54ms/step - loss: 1.4194 - accuracy: 0.4967\n",
      "Epoch 11/80\n",
      "105/105 [==============================] - 5s 51ms/step - loss: 1.3634 - accuracy: 0.5149\n",
      "Epoch 12/80\n",
      "105/105 [==============================] - 6s 54ms/step - loss: 1.3055 - accuracy: 0.5340\n",
      "Epoch 13/80\n",
      "105/105 [==============================] - 5s 52ms/step - loss: 1.2608 - accuracy: 0.5385\n",
      "Epoch 14/80\n",
      "105/105 [==============================] - 6s 53ms/step - loss: 1.2357 - accuracy: 0.5662\n",
      "Epoch 15/80\n",
      "105/105 [==============================] - 6s 55ms/step - loss: 1.1801 - accuracy: 0.5898\n",
      "Epoch 16/80\n",
      "105/105 [==============================] - 6s 55ms/step - loss: 1.2155 - accuracy: 0.5662\n",
      "Epoch 17/80\n",
      "105/105 [==============================] - 6s 57ms/step - loss: 1.0970 - accuracy: 0.6146\n",
      "Epoch 18/80\n",
      "105/105 [==============================] - 6s 56ms/step - loss: 1.0804 - accuracy: 0.6235\n",
      "Epoch 19/80\n",
      "105/105 [==============================] - 6s 54ms/step - loss: 1.1405 - accuracy: 0.5934\n",
      "Epoch 20/80\n",
      "105/105 [==============================] - 6s 54ms/step - loss: 1.1013 - accuracy: 0.6134\n",
      "Epoch 21/80\n",
      "105/105 [==============================] - 6s 55ms/step - loss: 0.9846 - accuracy: 0.6650\n",
      "Epoch 22/80\n",
      "105/105 [==============================] - 6s 54ms/step - loss: 0.9261 - accuracy: 0.6775\n",
      "Epoch 23/80\n",
      "105/105 [==============================] - 5s 52ms/step - loss: 0.9351 - accuracy: 0.6754\n",
      "Epoch 24/80\n",
      "105/105 [==============================] - 6s 53ms/step - loss: 0.8830 - accuracy: 0.6939\n",
      "Epoch 25/80\n",
      "105/105 [==============================] - 6s 53ms/step - loss: 0.8015 - accuracy: 0.7273\n",
      "Epoch 26/80\n",
      "105/105 [==============================] - 6s 53ms/step - loss: 0.8163 - accuracy: 0.7157\n",
      "Epoch 27/80\n",
      "105/105 [==============================] - 6s 53ms/step - loss: 0.7711 - accuracy: 0.7288\n",
      "Epoch 28/80\n",
      "105/105 [==============================] - 5s 51ms/step - loss: 0.7205 - accuracy: 0.7587\n",
      "Epoch 29/80\n",
      "105/105 [==============================] - 5s 50ms/step - loss: 0.6965 - accuracy: 0.7619\n",
      "Epoch 30/80\n",
      "105/105 [==============================] - 5s 50ms/step - loss: 0.6139 - accuracy: 0.7912\n",
      "Epoch 31/80\n",
      "105/105 [==============================] - 5s 51ms/step - loss: 0.7569 - accuracy: 0.7375\n",
      "Epoch 32/80\n",
      "105/105 [==============================] - 5s 51ms/step - loss: 0.5536 - accuracy: 0.8168\n",
      "Epoch 33/80\n",
      "105/105 [==============================] - 5s 50ms/step - loss: 0.6150 - accuracy: 0.7843\n",
      "Epoch 34/80\n",
      "105/105 [==============================] - 5s 50ms/step - loss: 0.5256 - accuracy: 0.8231\n",
      "Epoch 35/80\n",
      "105/105 [==============================] - 5s 50ms/step - loss: 0.4884 - accuracy: 0.8341\n",
      "Epoch 36/80\n",
      "105/105 [==============================] - 5s 50ms/step - loss: 0.5181 - accuracy: 0.8183\n",
      "Epoch 37/80\n",
      "105/105 [==============================] - 5s 50ms/step - loss: 0.5283 - accuracy: 0.8135\n",
      "Epoch 38/80\n",
      "105/105 [==============================] - 5s 49ms/step - loss: 0.4640 - accuracy: 0.8383\n",
      "Epoch 39/80\n",
      "105/105 [==============================] - 5s 51ms/step - loss: 0.5882 - accuracy: 0.7998\n",
      "Epoch 40/80\n",
      "105/105 [==============================] - 5s 49ms/step - loss: 0.4700 - accuracy: 0.8437\n",
      "Epoch 41/80\n",
      "105/105 [==============================] - 5s 50ms/step - loss: 0.4118 - accuracy: 0.8604\n",
      "Epoch 42/80\n",
      "105/105 [==============================] - 5s 50ms/step - loss: 0.3370 - accuracy: 0.8893\n",
      "Epoch 43/80\n",
      "105/105 [==============================] - 5s 50ms/step - loss: 0.4359 - accuracy: 0.8529\n",
      "Epoch 44/80\n",
      "105/105 [==============================] - 5s 50ms/step - loss: 0.3650 - accuracy: 0.8753\n",
      "Epoch 45/80\n",
      "105/105 [==============================] - 5s 50ms/step - loss: 0.3067 - accuracy: 0.9036\n",
      "Epoch 46/80\n",
      "105/105 [==============================] - 5s 51ms/step - loss: 0.4186 - accuracy: 0.8696\n",
      "Epoch 47/80\n",
      "105/105 [==============================] - 6s 53ms/step - loss: 0.2878 - accuracy: 0.9057\n",
      "Epoch 48/80\n",
      "105/105 [==============================] - 5s 52ms/step - loss: 0.2464 - accuracy: 0.9203\n",
      "Epoch 49/80\n",
      "105/105 [==============================] - 5s 51ms/step - loss: 0.3293 - accuracy: 0.8887\n",
      "Epoch 50/80\n",
      "105/105 [==============================] - 5s 52ms/step - loss: 0.3153 - accuracy: 0.8926\n",
      "Epoch 51/80\n",
      "105/105 [==============================] - 5s 50ms/step - loss: 0.2147 - accuracy: 0.9311\n",
      "Epoch 52/80\n",
      "105/105 [==============================] - 5s 50ms/step - loss: 0.2887 - accuracy: 0.9099\n",
      "Epoch 53/80\n",
      "105/105 [==============================] - 5s 50ms/step - loss: 0.2383 - accuracy: 0.9200\n",
      "Epoch 54/80\n",
      "105/105 [==============================] - 5s 51ms/step - loss: 0.4552 - accuracy: 0.8550\n",
      "Epoch 55/80\n",
      "105/105 [==============================] - 5s 51ms/step - loss: 0.2832 - accuracy: 0.9066\n",
      "Epoch 56/80\n",
      "105/105 [==============================] - 5s 51ms/step - loss: 0.1508 - accuracy: 0.9538\n",
      "Epoch 57/80\n",
      "105/105 [==============================] - 5s 51ms/step - loss: 0.1504 - accuracy: 0.9520\n",
      "Epoch 58/80\n",
      "105/105 [==============================] - 5s 51ms/step - loss: 0.1612 - accuracy: 0.9481\n",
      "Epoch 59/80\n",
      "105/105 [==============================] - 5s 51ms/step - loss: 0.2186 - accuracy: 0.9278\n",
      "Epoch 60/80\n",
      "105/105 [==============================] - 6s 54ms/step - loss: 0.3515 - accuracy: 0.8839\n",
      "Epoch 61/80\n",
      "105/105 [==============================] - 5s 51ms/step - loss: 0.2163 - accuracy: 0.9203\n",
      "Epoch 62/80\n",
      "105/105 [==============================] - 5s 49ms/step - loss: 0.1791 - accuracy: 0.9374\n",
      "Epoch 63/80\n",
      "105/105 [==============================] - 5s 50ms/step - loss: 0.2712 - accuracy: 0.9108\n",
      "Epoch 64/80\n",
      "105/105 [==============================] - 5s 49ms/step - loss: 0.1181 - accuracy: 0.9651\n",
      "Epoch 65/80\n",
      "105/105 [==============================] - 5s 50ms/step - loss: 0.1005 - accuracy: 0.9717\n",
      "Epoch 66/80\n",
      "105/105 [==============================] - 5s 50ms/step - loss: 0.0927 - accuracy: 0.9717\n",
      "Epoch 67/80\n",
      "105/105 [==============================] - 5s 49ms/step - loss: 0.1066 - accuracy: 0.9669\n",
      "Epoch 68/80\n",
      "105/105 [==============================] - 5s 49ms/step - loss: 0.4129 - accuracy: 0.8649\n",
      "Epoch 69/80\n",
      "105/105 [==============================] - 5s 50ms/step - loss: 0.3163 - accuracy: 0.8926\n",
      "Epoch 70/80\n",
      "105/105 [==============================] - 5s 50ms/step - loss: 0.0916 - accuracy: 0.9752\n",
      "Epoch 71/80\n",
      "105/105 [==============================] - 5s 50ms/step - loss: 0.0630 - accuracy: 0.9818\n",
      "Epoch 72/80\n",
      "105/105 [==============================] - 5s 50ms/step - loss: 0.0650 - accuracy: 0.9824\n",
      "Epoch 73/80\n",
      "105/105 [==============================] - 5s 50ms/step - loss: 0.2195 - accuracy: 0.9332\n",
      "Epoch 74/80\n",
      "105/105 [==============================] - 5s 49ms/step - loss: 0.1592 - accuracy: 0.9523\n",
      "Epoch 75/80\n",
      "105/105 [==============================] - 5s 49ms/step - loss: 0.0815 - accuracy: 0.9743\n",
      "Epoch 76/80\n",
      "105/105 [==============================] - 5s 50ms/step - loss: 0.2088 - accuracy: 0.9275\n",
      "Epoch 77/80\n",
      "105/105 [==============================] - 5s 50ms/step - loss: 0.2799 - accuracy: 0.9075\n",
      "Epoch 78/80\n",
      "105/105 [==============================] - 5s 50ms/step - loss: 0.3911 - accuracy: 0.8753\n",
      "Epoch 79/80\n",
      "105/105 [==============================] - 5s 49ms/step - loss: 0.1470 - accuracy: 0.9526\n",
      "Epoch 80/80\n",
      "105/105 [==============================] - 5s 50ms/step - loss: 0.0571 - accuracy: 0.9851\n"
     ]
    },
    {
     "data": {
      "text/plain": [
       "<keras.src.callbacks.History at 0x195f27a1710>"
      ]
     },
     "execution_count": 44,
     "metadata": {},
     "output_type": "execute_result"
    }
   ],
   "source": [
    "train_images = [load_and_process_image(image_path) for image_path in df['photos'][:20000]]\n",
    "train_images = np.array(train_images)\n",
    "encoder = LabelEncoder()\n",
    "train_labels = encoder.fit_transform(df['auto'][:20000])\n",
    "train_labels = np.array(train_labels)\n",
    "validation_images = [load_and_process_image(image_path) for image_path in df['photos'][20000:25000]]\n",
    "validation_images = np.array(validation_images)\n",
    "validation_labels = encoder.transform(df['auto'][20000:25000]) \n",
    "validation_labels = np.array(validation_labels)\n",
    "model.fit(train_images, train_labels, epochs=80, validation_data=(validation_images, validation_labels))"
   ]
  },
  {
   "cell_type": "code",
   "execution_count": 48,
   "metadata": {},
   "outputs": [
    {
     "data": {
      "text/plain": [
       "array([0, 0, 0, ..., 6, 6, 6])"
      ]
     },
     "execution_count": 48,
     "metadata": {},
     "output_type": "execute_result"
    }
   ],
   "source": [
    "train_labels"
   ]
  }
 ],
 "metadata": {
  "kernelspec": {
   "display_name": "Python 3",
   "language": "python",
   "name": "python3"
  },
  "language_info": {
   "codemirror_mode": {
    "name": "ipython",
    "version": 3
   },
   "file_extension": ".py",
   "mimetype": "text/x-python",
   "name": "python",
   "nbconvert_exporter": "python",
   "pygments_lexer": "ipython3",
   "version": "3.11.4"
  },
  "orig_nbformat": 4
 },
 "nbformat": 4,
 "nbformat_minor": 2
}
